{
 "cells": [
  {
   "cell_type": "markdown",
   "metadata": {},
   "source": [
    "# Data"
   ]
  },
  {
   "cell_type": "markdown",
   "metadata": {},
   "source": [
    "We will rely on the publicly available data of New York city available online:  https://geo.nyu.edu/catalog/nyu_2451_34572\n",
    "\n",
    "This dataset contains 5 boroughs and 306 neighborhoods. Now since our methodology is to search for gym/fitness center venues and try to plug our vegeterian restaurant nearby, we will use this website:https://developer.foursquare.com/docs/resources/categories in order to find gym/fitness center category id. We found that this id = 4bf58dd8d48988d175941735\n",
    "        "
   ]
  },
  {
   "cell_type": "markdown",
   "metadata": {},
   "source": [
    "## data before cleaning\n",
    "Note that we will do clustering in two stages. Indeed, our methodology consists of finding neighborhoods with high concentration in gym/fitness venues (stage 1), and low concentration in restaurants (stage2).\n",
    "Below we give a screenshot of the data before processing, then after preparartion to stage 1 then to stage 2 (full details will be on the final notebook)"
   ]
  },
  {
   "cell_type": "markdown",
   "metadata": {},
   "source": [
    "![alt text](https://raw.githubusercontent.com/3alimo2019/github-example/master/data_after_cleaning_stage1.jpg \"Data before cleaning\")"
   ]
  },
  {
   "cell_type": "markdown",
   "metadata": {},
   "source": [
    "## data after cleaning for clustering stage 1"
   ]
  },
  {
   "cell_type": "markdown",
   "metadata": {},
   "source": [
    "![alt text](https://raw.githubusercontent.com/3alimo2019/github-example/master/data_after_cleaning_stage1.png \"Data after cleaning - stage 1\")"
   ]
  },
  {
   "cell_type": "markdown",
   "metadata": {},
   "source": [
    "## data after cleaning - clusterging stage 2"
   ]
  },
  {
   "cell_type": "markdown",
   "metadata": {},
   "source": [
    "![alt text](https://raw.githubusercontent.com/3alimo2019/github-example/master/data_after_cleaning_stage2.png \"Data after cleaning stage 2\")"
   ]
  },
  {
   "cell_type": "code",
   "execution_count": null,
   "metadata": {},
   "outputs": [],
   "source": []
  }
 ],
 "metadata": {
  "kernelspec": {
   "display_name": "Python 3",
   "language": "python",
   "name": "python3"
  },
  "language_info": {
   "codemirror_mode": {
    "name": "ipython",
    "version": 3
   },
   "file_extension": ".py",
   "mimetype": "text/x-python",
   "name": "python",
   "nbconvert_exporter": "python",
   "pygments_lexer": "ipython3",
   "version": "3.6.8"
  }
 },
 "nbformat": 4,
 "nbformat_minor": 2
}
