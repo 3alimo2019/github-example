{
 "cells": [
  {
   "cell_type": "markdown",
   "metadata": {},
   "source": [
    "# Introduction"
   ]
  },
  {
   "cell_type": "markdown",
   "metadata": {},
   "source": [
    "New York City is a collection of many neighbourhoods scattered among the city’s five boroughs—Manhattan, Brooklyn, the Bronx, Queens, and Staten Island—each exhibiting its own lifestyle. It is the most populous and the most international city in the country. Furthermore, New York is the most ethnically diverse, religiously varied, commercially driven, famously congested, and, in the eyes of many, the most attractive urban centre in the country.\n",
    "\n",
    "Hence, opening any new business should be carefully studied and a strategic plan should be developped in order to guarantee the long term succes. Indeed, this requires a careful understanding of the diffrent neighbourhoods of the city, the ethnicity of the people and most important their habits and tastes."
   ]
  },
  {
   "cell_type": "markdown",
   "metadata": {},
   "source": [
    "# Business problem"
   ]
  },
  {
   "cell_type": "markdown",
   "metadata": {},
   "source": [
    "We can say that healthcare is one of the most valuable industries in the World. This is due to the spread of the fast food culture which leads to many diseases and health problems. Hence, many people are trying to find methods in order to avoid falling into these problems. We can say that the preventive cure exists in two major categories: gym and healthy food. \n",
    "\n",
    "In terms of healthy food, vegetrian restaurants come in the top of the list. Starting a vegterian restaurant can be a great business opportunity, but we need to distinguish ourselves from others to enjoy long-term success. We think that by exploring the neighbourhoods and their different venues and by emphesizing on the locations where gym centers are popular will lead us to the right place of our presumed vegetarian restaurants. This is because people who frequently visit gym are likely interested in eating healthy food.\n",
    "\n",
    "We will content ourselves to provide this study for the city of New York and in particular to Manhattan neighbourhood since our client is interested in this area. "
   ]
  },
  {
   "cell_type": "code",
   "execution_count": null,
   "metadata": {},
   "outputs": [],
   "source": []
  }
 ],
 "metadata": {
  "kernelspec": {
   "display_name": "Python 3",
   "language": "python",
   "name": "python3"
  },
  "language_info": {
   "codemirror_mode": {
    "name": "ipython",
    "version": 3
   },
   "file_extension": ".py",
   "mimetype": "text/x-python",
   "name": "python",
   "nbconvert_exporter": "python",
   "pygments_lexer": "ipython3",
   "version": "3.6.8"
  }
 },
 "nbformat": 4,
 "nbformat_minor": 2
}
